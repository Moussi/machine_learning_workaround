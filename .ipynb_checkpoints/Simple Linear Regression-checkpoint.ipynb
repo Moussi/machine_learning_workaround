{
 "cells": [
  {
   "cell_type": "code",
   "execution_count": 1,
   "id": "44206e39",
   "metadata": {},
   "outputs": [],
   "source": [
    "import numpy as np\n",
    "import matplotlib.pyplot as plt\n",
    "from sklearn.datasets import make_regression"
   ]
  },
  {
   "cell_type": "markdown",
   "id": "0f19db66",
   "metadata": {},
   "source": [
    "# 1. Dataset \n",
    "dataset $(x, y)$ qui contient 100 exemples, et une seule variable $x$\n"
   ]
  },
  {
   "cell_type": "code",
   "execution_count": 2,
   "id": "5376d791",
   "metadata": {},
   "outputs": [],
   "source": [
    "np.random.seed(0)\n",
    "x, y = make_regression(n_samples=100, n_features=1, noise=10)"
   ]
  },
  {
   "cell_type": "code",
   "execution_count": 3,
   "id": "921a59e8",
   "metadata": {},
   "outputs": [
    {
     "name": "stdout",
     "output_type": "stream",
     "text": [
      "x => (100, 1), y => (100,)\n"
     ]
    }
   ],
   "source": [
    "print(f\"x => {x.shape}, y => {y.shape}\")"
   ]
  },
  {
   "cell_type": "code",
   "execution_count": 4,
   "id": "d879682d",
   "metadata": {},
   "outputs": [
    {
     "data": {
      "text/plain": [
       "(100, 1)"
      ]
     },
     "execution_count": 4,
     "metadata": {},
     "output_type": "execute_result"
    }
   ],
   "source": [
    "y = y.reshape((100,1))\n",
    "y.shape"
   ]
  },
  {
   "cell_type": "markdown",
   "id": "e15f3023",
   "metadata": {},
   "source": [
    "Création de la matrice X qui contient la colonne de Biais"
   ]
  },
  {
   "cell_type": "code",
   "execution_count": 5,
   "id": "63248ebe",
   "metadata": {},
   "outputs": [],
   "source": [
    "X = np.hstack((x, np.ones((x.shape[0],1))))"
   ]
  },
  {
   "cell_type": "code",
   "execution_count": 6,
   "id": "6dc8633f",
   "metadata": {},
   "outputs": [
    {
     "data": {
      "text/plain": [
       "(100, 2)"
      ]
     },
     "execution_count": 6,
     "metadata": {},
     "output_type": "execute_result"
    }
   ],
   "source": [
    "X.shape"
   ]
  },
  {
   "cell_type": "markdown",
   "id": "c5e7c2d2",
   "metadata": {},
   "source": [
    "création d'un vecteur parametre $\\theta$, initialisé avec des coefficients aléatoires."
   ]
  },
  {
   "cell_type": "code",
   "execution_count": 7,
   "id": "4ce4b670",
   "metadata": {},
   "outputs": [
    {
     "data": {
      "text/plain": [
       "array([[-0.63743703],\n",
       "       [-0.39727181]])"
      ]
     },
     "execution_count": 7,
     "metadata": {},
     "output_type": "execute_result"
    }
   ],
   "source": [
    "theta = np.random.randn(2,1)\n",
    "theta"
   ]
  },
  {
   "cell_type": "markdown",
   "id": "17fd32aa",
   "metadata": {},
   "source": [
    "# 2. Linear Model\n",
    " $F = X.\\theta$"
   ]
  },
  {
   "cell_type": "code",
   "execution_count": 8,
   "id": "71ba2aef",
   "metadata": {},
   "outputs": [],
   "source": [
    "def model(X, theta):\n",
    "    return X.dot(theta)"
   ]
  },
  {
   "cell_type": "code",
   "execution_count": 9,
   "id": "0b6d2597",
   "metadata": {},
   "outputs": [
    {
     "data": {
      "text/plain": [
       "[<matplotlib.lines.Line2D at 0x7f052c3875e0>]"
      ]
     },
     "execution_count": 9,
     "metadata": {},
     "output_type": "execute_result"
    },
    {
     "data": {
      "image/png": "[encoded data removed]",
      "text/plain": [
       "<Figure size 640x480 with 1 Axes>"
      ]
     },
     "metadata": {},
     "output_type": "display_data"
    }
   ],
   "source": [
    "plt.scatter(x,y)\n",
    "plt.plot(x, model(X, theta), c='red')"
   ]
  },
  {
   "cell_type": "markdown",
   "id": "403ede59",
   "metadata": {},
   "source": [
    "# 3.Cost Function\n",
    "les erreurs du modele sur le Dataset X, y en implémenter l'erreur quadratique moyenne,  **Mean Squared Error (MSE)** en anglais.\n",
    "\n",
    "$ J(\\theta) = \\frac{1}{2m} \\sum (X.\\theta - y)^2 $"
   ]
  },
  {
   "cell_type": "code",
   "execution_count": 10,
   "id": "5786976f",
   "metadata": {},
   "outputs": [],
   "source": [
    "def cost_function(X, y, theta):\n",
    "    m = len(y)\n",
    "    return 1/(2*m) * np.sum((model(X, theta) - y)**2)"
   ]
  },
  {
   "cell_type": "code",
   "execution_count": 11,
   "id": "613ae14c",
   "metadata": {},
   "outputs": [
    {
     "data": {
      "text/plain": [
       "1009.8259477174702"
      ]
     },
     "execution_count": 11,
     "metadata": {},
     "output_type": "execute_result"
    }
   ],
   "source": [
    "cost_function(X, y, theta)"
   ]
  },
  {
   "cell_type": "markdown",
   "id": "001848a3",
   "metadata": {},
   "source": [
    "# 4. Descend Gradient\n",
    "On implémente la formule du gradient pour la **MSE**\n",
    "\n",
    "$\\frac{\\partial J(\\theta) }{\\partial \\theta} = \\frac{1}{m} X^T.(X.\\theta - y)$\n",
    "\n",
    "Ensuite on utilise cette fonction dans la descente de gradient:\n",
    "\n",
    "$\\theta = \\theta - \\alpha \\frac{\\partial J(\\theta) }{\\partial \\theta}$"
   ]
  },
  {
   "cell_type": "code",
   "execution_count": 12,
   "id": "67f3a859",
   "metadata": {},
   "outputs": [],
   "source": [
    "def grad(X, y, theta):\n",
    "    m = len(y)\n",
    "    return 1/m * X.T.dot(model(X, theta) - y)"
   ]
  },
  {
   "cell_type": "code",
   "execution_count": 13,
   "id": "3df3588a",
   "metadata": {},
   "outputs": [],
   "source": [
    "def descend_gradient(X, y, theta, learning_rate, n_iterations):\n",
    "    cost_history = np.zeros(n_iterations)\n",
    "    for i in range(0, n_iterations):\n",
    "        theta = theta - learning_rate * grad(X, y, theta)\n",
    "        cost_history[i] = cost_function(X, y, theta)\n",
    "    return theta, cost_history"
   ]
  },
  {
   "cell_type": "markdown",
   "id": "8fc12182",
   "metadata": {},
   "source": [
    "# 5. Training"
   ]
  },
  {
   "cell_type": "code",
   "execution_count": 14,
   "id": "825a22c8",
   "metadata": {},
   "outputs": [],
   "source": [
    "n_iterations = 1000\n",
    "learning_rate = 0.01\n",
    "final_theta, cost_history = descend_gradient(X, y, theta, learning_rate, n_iterations)"
   ]
  },
  {
   "cell_type": "code",
   "execution_count": 15,
   "id": "c2a5c5a2",
   "metadata": {},
   "outputs": [
    {
     "data": {
      "text/plain": [
       "57.08574532796593"
      ]
     },
     "execution_count": 15,
     "metadata": {},
     "output_type": "execute_result"
    }
   ],
   "source": [
    "cost_function(X, y, final_theta)"
   ]
  },
  {
   "cell_type": "code",
   "execution_count": 16,
   "id": "db326834",
   "metadata": {},
   "outputs": [
    {
     "data": {
      "text/plain": [
       "[<matplotlib.lines.Line2D at 0x7f052ba914f0>]"
      ]
     },
     "execution_count": 16,
     "metadata": {},
     "output_type": "execute_result"
    },
    {
     "data": {
      "image/png": "[encoded data removed]",
      "text/plain": [
       "<Figure size 640x480 with 1 Axes>"
      ]
     },
     "metadata": {},
     "output_type": "display_data"
    }
   ],
   "source": [
    "predictions = model(X, final_theta)\n",
    "plt.scatter(x[:,0], y)\n",
    "plt.plot(x[:,0], predictions, c = 'r')"
   ]
  },
  {
   "cell_type": "markdown",
   "id": "3cd21011",
   "metadata": {},
   "source": [
    "# 6. Learning Chart "
   ]
  },
  {
   "cell_type": "code",
   "execution_count": 17,
   "id": "fce053b0",
   "metadata": {},
   "outputs": [
    {
     "data": {
      "text/plain": [
       "[<matplotlib.lines.Line2D at 0x7f052ba73f70>]"
      ]
     },
     "execution_count": 17,
     "metadata": {},
     "output_type": "execute_result"
    },
    {
     "data": {
      "image/png": "[encoded data removed]",
      "text/plain": [
       "<Figure size 640x480 with 1 Axes>"
      ]
     },
     "metadata": {},
     "output_type": "display_data"
    }
   ],
   "source": [
    "plt.plot(range(n_iterations), cost_history)"
   ]
  },
  {
   "cell_type": "markdown",
   "id": "6c2646d8",
   "metadata": {},
   "source": [
    "# 7. Final Model Validation\n",
    "Pour évaluer la réelle performance de notre modele avec une métrique populaire (pour votre patron, client, ou vos collegues) on peut utiliser le **coefficient de détermination**, aussi connu sous le nom $R^2$. Il nous vient de la méthode des moindres carrés. Plus le résultat est proche de 1, meilleur est votre modele\n",
    "\n",
    "$ R^2$ = 1 - $ \\frac{\\sum (y - f(x))^2}{\\sum (y - mean(y))^2}  $"
   ]
  },
  {
   "cell_type": "code",
   "execution_count": 18,
   "id": "c4d184a4",
   "metadata": {},
   "outputs": [],
   "source": [
    "def determination_coef(y, pred):\n",
    "    u = ((y - pred)**2).sum()\n",
    "    v = ((y - y.mean())**2).sum()\n",
    "    return 1 - u/v"
   ]
  },
  {
   "cell_type": "code",
   "execution_count": 19,
   "id": "a5e39bff",
   "metadata": {},
   "outputs": [
    {
     "data": {
      "text/plain": [
       "0.9417294704806692"
      ]
     },
     "execution_count": 19,
     "metadata": {},
     "output_type": "execute_result"
    }
   ],
   "source": [
    "determination_coef(y, predictions)"
   ]
  },
  {
   "cell_type": "code",
   "execution_count": null,
   "id": "60d8ba92",
   "metadata": {},
   "outputs": [],
   "source": []
  }
 ],
 "metadata": {
  "kernelspec": {
   "display_name": "Python 3 (ipykernel)",
   "language": "python",
   "name": "python3"
  },
  "language_info": {
   "codemirror_mode": {
    "name": "ipython",
    "version": 3
   },
   "file_extension": ".py",
   "mimetype": "text/x-python",
   "name": "python",
   "nbconvert_exporter": "python",
   "pygments_lexer": "ipython3",
   "version": "3.8.5"
  }
 },
 "nbformat": 4,
 "nbformat_minor": 5
}
