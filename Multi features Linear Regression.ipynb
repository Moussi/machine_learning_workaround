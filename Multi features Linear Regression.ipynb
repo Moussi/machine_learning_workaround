{
 "cells": [
  {
   "cell_type": "code",
   "execution_count": 1,
   "id": "dd0677f3",
   "metadata": {},
   "outputs": [],
   "source": [
    "import numpy as np\n",
    "import matplotlib.pyplot as plt\n",
    "from sklearn.datasets import make_regression"
   ]
  },
  {
   "cell_type": "markdown",
   "id": "aa86bced",
   "metadata": {},
   "source": [
    "# 1. Dataset \n",
    "dataset $(x, y)$ qui contient 100 exemples, et une seule variable $x$\n"
   ]
  },
  {
   "cell_type": "code",
   "execution_count": 2,
   "id": "877c562a",
   "metadata": {},
   "outputs": [],
   "source": [
    "np.random.seed(0)\n",
    "x, y = make_regression(n_samples=100, n_features=2, noise=10)"
   ]
  },
  {
   "cell_type": "code",
   "execution_count": 3,
   "id": "e27a8c97",
   "metadata": {},
   "outputs": [
    {
     "name": "stdout",
     "output_type": "stream",
     "text": [
      "x => (100, 2), y => (100,)\n"
     ]
    }
   ],
   "source": [
    "print(f\"x => {x.shape}, y => {y.shape}\")"
   ]
  },
  {
   "cell_type": "code",
   "execution_count": 4,
   "id": "7c7878fd",
   "metadata": {},
   "outputs": [
    {
     "data": {
      "text/plain": [
       "(100, 1)"
      ]
     },
     "execution_count": 4,
     "metadata": {},
     "output_type": "execute_result"
    }
   ],
   "source": [
    "y = y.reshape((100,1))\n",
    "y.shape"
   ]
  },
  {
   "cell_type": "markdown",
   "id": "ece144eb",
   "metadata": {},
   "source": [
    "Création de la matrice X qui contient la colonne de Biais"
   ]
  },
  {
   "cell_type": "code",
   "execution_count": 8,
   "id": "bf506667",
   "metadata": {},
   "outputs": [],
   "source": [
    "X = np.hstack((x, np.ones((x.shape[0],1))))"
   ]
  },
  {
   "cell_type": "code",
   "execution_count": 9,
   "id": "c990f588",
   "metadata": {},
   "outputs": [
    {
     "data": {
      "text/plain": [
       "(100, 3)"
      ]
     },
     "execution_count": 9,
     "metadata": {},
     "output_type": "execute_result"
    }
   ],
   "source": [
    "X.shape"
   ]
  },
  {
   "cell_type": "markdown",
   "id": "9c176c37",
   "metadata": {},
   "source": [
    "création d'un vecteur parametre $\\theta$, initialisé avec des coefficients aléatoires."
   ]
  },
  {
   "cell_type": "code",
   "execution_count": 10,
   "id": "8fb3c6ef",
   "metadata": {},
   "outputs": [
    {
     "data": {
      "text/plain": [
       "array([[-0.82646112],\n",
       "       [ 0.78420863],\n",
       "       [-0.1954172 ]])"
      ]
     },
     "execution_count": 10,
     "metadata": {},
     "output_type": "execute_result"
    }
   ],
   "source": [
    "theta = np.random.randn(3,1)\n",
    "theta"
   ]
  },
  {
   "cell_type": "markdown",
   "id": "81912fa3",
   "metadata": {},
   "source": [
    "# 2. Linear Model\n",
    " $F = X.\\theta$"
   ]
  },
  {
   "cell_type": "code",
   "execution_count": 11,
   "id": "57dde4b6",
   "metadata": {},
   "outputs": [],
   "source": [
    "def model(X, theta):\n",
    "    return X.dot(theta)"
   ]
  },
  {
   "cell_type": "code",
   "execution_count": 15,
   "id": "8fa497ae",
   "metadata": {},
   "outputs": [
    {
     "data": {
      "text/plain": [
       "(100, 1)"
      ]
     },
     "execution_count": 15,
     "metadata": {},
     "output_type": "execute_result"
    }
   ],
   "source": [
    "A = model(X, theta)\n",
    "A.shape"
   ]
  },
  {
   "cell_type": "code",
   "execution_count": 17,
   "id": "3ee333e6",
   "metadata": {},
   "outputs": [
    {
     "data": {
      "text/plain": [
       "[<matplotlib.lines.Line2D at 0x7f15c1d5e1f0>]"
      ]
     },
     "execution_count": 17,
     "metadata": {},
     "output_type": "execute_result"
    },
    {
     "data": {
      "image/png": "[encoded data removed]",
      "text/plain": [
       "<Figure size 640x480 with 1 Axes>"
      ]
     },
     "metadata": {},
     "output_type": "display_data"
    }
   ],
   "source": [
    "plt.scatter(x[:,1],y)\n",
    "plt.plot(x[:,1], model(X, theta), c='red')"
   ]
  },
  {
   "cell_type": "markdown",
   "id": "edd15b5e",
   "metadata": {},
   "source": [
    "# 3.Cost Function\n",
    "les erreurs du modele sur le Dataset X, y en implémenter l'erreur quadratique moyenne,  **Mean Squared Error (MSE)** en anglais.\n",
    "\n",
    "$ J(\\theta) = \\frac{1}{2m} \\sum (X.\\theta - y)^2 $"
   ]
  },
  {
   "cell_type": "code",
   "execution_count": 18,
   "id": "a3785a7e",
   "metadata": {},
   "outputs": [],
   "source": [
    "def cost_function(X, y, theta):\n",
    "    m = len(y)\n",
    "    return 1/(2*m) * np.sum((model(X, theta) - y)**2)"
   ]
  },
  {
   "cell_type": "code",
   "execution_count": 19,
   "id": "155c4ecb",
   "metadata": {},
   "outputs": [
    {
     "data": {
      "text/plain": [
       "5294.071342926028"
      ]
     },
     "execution_count": 19,
     "metadata": {},
     "output_type": "execute_result"
    }
   ],
   "source": [
    "cost_function(X, y, theta)"
   ]
  },
  {
   "cell_type": "markdown",
   "id": "41f3ed71",
   "metadata": {},
   "source": [
    "# 4. Descend Gradient\n",
    "On implémente la formule du gradient pour la **MSE**\n",
    "\n",
    "$\\frac{\\partial J(\\theta) }{\\partial \\theta} = \\frac{1}{m} X^T.(X.\\theta - y)$\n",
    "\n",
    "Ensuite on utilise cette fonction dans la descente de gradient:\n",
    "\n",
    "$\\theta = \\theta - \\alpha \\frac{\\partial J(\\theta) }{\\partial \\theta}$"
   ]
  },
  {
   "cell_type": "code",
   "execution_count": 20,
   "id": "f52cb369",
   "metadata": {},
   "outputs": [],
   "source": [
    "def grad(X, y, theta):\n",
    "    m = len(y)\n",
    "    return 1/m * X.T.dot(model(X, theta) - y)"
   ]
  },
  {
   "cell_type": "code",
   "execution_count": 21,
   "id": "8d105cdb",
   "metadata": {},
   "outputs": [],
   "source": [
    "def descend_gradient(X, y, theta, learning_rate, n_iterations):\n",
    "    cost_history = np.zeros(n_iterations)\n",
    "    for i in range(0, n_iterations):\n",
    "        theta = theta - learning_rate * grad(X, y, theta)\n",
    "        cost_history[i] = cost_function(X, y, theta)\n",
    "    return theta, cost_history"
   ]
  },
  {
   "cell_type": "markdown",
   "id": "521caf98",
   "metadata": {},
   "source": [
    "# 5. Training"
   ]
  },
  {
   "cell_type": "code",
   "execution_count": 22,
   "id": "dc767e47",
   "metadata": {},
   "outputs": [],
   "source": [
    "n_iterations = 1000\n",
    "learning_rate = 0.01\n",
    "final_theta, cost_history = descend_gradient(X, y, theta, learning_rate, n_iterations)"
   ]
  },
  {
   "cell_type": "code",
   "execution_count": 23,
   "id": "09763b55",
   "metadata": {},
   "outputs": [
    {
     "data": {
      "text/plain": [
       "44.51271708386983"
      ]
     },
     "execution_count": 23,
     "metadata": {},
     "output_type": "execute_result"
    }
   ],
   "source": [
    "cost_function(X, y, final_theta)"
   ]
  },
  {
   "cell_type": "code",
   "execution_count": 24,
   "id": "2741c223",
   "metadata": {},
   "outputs": [
    {
     "data": {
      "text/plain": [
       "array([[28.67154616],\n",
       "       [97.29524926],\n",
       "       [-0.511481  ]])"
      ]
     },
     "execution_count": 24,
     "metadata": {},
     "output_type": "execute_result"
    }
   ],
   "source": [
    "final_theta"
   ]
  },
  {
   "cell_type": "code",
   "execution_count": 27,
   "id": "cfc6fb43",
   "metadata": {},
   "outputs": [
    {
     "name": "stdout",
     "output_type": "stream",
     "text": [
      "(100, 1)\n",
      "(100, 2)\n"
     ]
    },
    {
     "data": {
      "text/plain": [
       "<matplotlib.collections.PathCollection at 0x7f15c1cf68e0>"
      ]
     },
     "execution_count": 27,
     "metadata": {},
     "output_type": "execute_result"
    },
    {
     "data": {
      "image/png": "[encoded data removed]",
      "text/plain": [
       "<Figure size 640x480 with 1 Axes>"
      ]
     },
     "metadata": {},
     "output_type": "display_data"
    }
   ],
   "source": [
    "predictions = model(X, final_theta)\n",
    "print(predictions.shape)\n",
    "print(x.shape)\n",
    "plt.scatter(x[:,0], y)\n",
    "plt.scatter(x[:,0], predictions, c = 'r')"
   ]
  },
  {
   "cell_type": "markdown",
   "id": "c49be832",
   "metadata": {},
   "source": [
    "# 6. Learning Chart "
   ]
  },
  {
   "cell_type": "code",
   "execution_count": 28,
   "id": "3c0bb1db",
   "metadata": {},
   "outputs": [
    {
     "data": {
      "text/plain": [
       "[<matplotlib.lines.Line2D at 0x7f15c1b9ed00>]"
      ]
     },
     "execution_count": 28,
     "metadata": {},
     "output_type": "execute_result"
    },
    {
     "data": {
      "image/png": "[encoded data removed]",
      "text/plain": [
       "<Figure size 640x480 with 1 Axes>"
      ]
     },
     "metadata": {},
     "output_type": "display_data"
    }
   ],
   "source": [
    "plt.plot(range(n_iterations), cost_history)"
   ]
  },
  {
   "cell_type": "markdown",
   "id": "e642adce",
   "metadata": {},
   "source": [
    "# 7. Final Model Validation\n",
    "Pour évaluer la réelle performance de notre modele avec une métrique populaire (pour votre patron, client, ou vos collegues) on peut utiliser le **coefficient de détermination**, aussi connu sous le nom $R^2$. Il nous vient de la méthode des moindres carrés. Plus le résultat est proche de 1, meilleur est votre modele\n",
    "\n",
    "$ R^2$ = 1 - $ \\frac{\\sum (y - f(x))^2}{\\sum (y - mean(y))^2}  $"
   ]
  },
  {
   "cell_type": "code",
   "execution_count": 29,
   "id": "725929d9",
   "metadata": {},
   "outputs": [],
   "source": [
    "def determination_coef(y, pred):\n",
    "    u = ((y - pred)**2).sum()\n",
    "    v = ((y - y.mean())**2).sum()\n",
    "    return 1 - u/v"
   ]
  },
  {
   "cell_type": "code",
   "execution_count": 30,
   "id": "6d8e2b41",
   "metadata": {},
   "outputs": [
    {
     "data": {
      "text/plain": [
       "0.9916687122277607"
      ]
     },
     "execution_count": 30,
     "metadata": {},
     "output_type": "execute_result"
    }
   ],
   "source": [
    "determination_coef(y, predictions)"
   ]
  },
  {
   "cell_type": "code",
   "execution_count": null,
   "id": "4c7932c5",
   "metadata": {},
   "outputs": [],
   "source": []
  }
 ],
 "metadata": {
  "kernelspec": {
   "display_name": "Python 3 (ipykernel)",
   "language": "python",
   "name": "python3"
  },
  "language_info": {
   "codemirror_mode": {
    "name": "ipython",
    "version": 3
   },
   "file_extension": ".py",
   "mimetype": "text/x-python",
   "name": "python",
   "nbconvert_exporter": "python",
   "pygments_lexer": "ipython3",
   "version": "3.8.5"
  }
 },
 "nbformat": 4,
 "nbformat_minor": 5
}
